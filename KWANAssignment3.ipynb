{
 "cells": [
  {
   "cell_type": "markdown",
   "metadata": {},
   "source": [
    "# Homework #3\n",
    "# CP 5.3, 5.4, 5.7, 5.9, 5.10, 5.11, 5.12, 5.13, 5.19 \n",
    "Newton Kwan\n",
    "<br>\n",
    "Professor Walter\n",
    "<br>\n",
    "PHY 566\n",
    "<br>\n",
    "5 February 2018 "
   ]
  },
  {
   "cell_type": "code",
   "execution_count": 3,
   "metadata": {
    "collapsed": true
   },
   "outputs": [],
   "source": [
    "from scipy.special.orthogonal import p_roots\n",
    "from numpy import linspace, cos, tan, ones, copy\n",
    "from math import sqrt, factorial\n",
    "from math import pi, exp\n",
    "import cmath\n",
    "from numpy.polynomial import Polynomial as P \n",
    "from numpy import empty, array, linspace, zeros, loadtxt, sin, cos\n",
    "from pylab import legend, xlabel, ylabel, title, imshow, plot, xlim, ylim, jet\n",
    "import matplotlib\n",
    "from scipy.constants import h, k, hbar, c\n",
    "import numpy as np\n",
    "import matplotlib.pyplot as plt\n",
    "%matplotlib inline"
   ]
  },
  {
   "cell_type": "markdown",
   "metadata": {},
   "source": [
    "### CP 5.3 [Gaussian Error Function. Use the trap rule for this problem] "
   ]
  },
  {
   "cell_type": "markdown",
   "metadata": {},
   "source": [
    "Consider the integral \n",
    "\n",
    "$$ E(x) = \\int_{0}^{x} e^{-t^2}dt $$ \n",
    "\n",
    "We will write a program to calculate $E(x)$ for values of x from 0 to 3 in steps of 0.1. I will choose to Simpson's Rule with 100 slices. "
   ]
  },
  {
   "cell_type": "code",
   "execution_count": 19,
   "metadata": {
    "collapsed": true
   },
   "outputs": [],
   "source": [
    "#defining constants here \n",
    "slices = 100 \n",
    "start = 0 \n",
    "end = 3 "
   ]
  },
  {
   "cell_type": "code",
   "execution_count": 20,
   "metadata": {},
   "outputs": [
    {
     "name": "stdout",
     "output_type": "stream",
     "text": [
      "For 10 slices, the approximate value is 0.886207\n"
     ]
    },
    {
     "data": {
      "text/plain": [
       "Text(0.5,1,'Plot of E(x) with 100 steps')"
      ]
     },
     "execution_count": 20,
     "metadata": {},
     "output_type": "execute_result"
    },
    {
     "data": {
      "image/png": "[encoded data removed]",
      "text/plain": [
       "<matplotlib.figure.Figure at 0x112e5de80>"
      ]
     },
     "metadata": {},
     "output_type": "display_data"
    }
   ],
   "source": [
    "#This code performs Simpson's Rule to approximate the value \n",
    "#of the above given integral\n",
    "\n",
    "def f(t): \n",
    "    '''\n",
    "    This defines the function that we are trying\n",
    "    to integrate. \n",
    "    '''\n",
    "    return exp(-t**2)\n",
    "\n",
    "def simpRule(slices, start, end):\n",
    "    '''\n",
    "    This calculates the value of an integral \n",
    "    using Simpson's rule and its parameters are\n",
    "    the number of quadratics used to approximate\n",
    "    the integral, starting point, and end point. \n",
    "    '''\n",
    "    N = slices #number of slices \n",
    "    a = start #starting x value \n",
    "    b = end #ending x value \n",
    "    h = (b-a) / N\n",
    "    s = f(a) + f(b) #this is initial part of the sum\n",
    "\n",
    "    #we now compute the sums in the above equation \n",
    "        \n",
    "    #for the odd terms \n",
    "    for i in range(1, N, 2): \n",
    "        s += 4* f(a+i*h)\n",
    "    \n",
    "    #for the even terms \n",
    "    for i in range(2, N, 2):\n",
    "        s += 2* f(a+i*h)\n",
    "    \n",
    "    return((1/3)*h*s)\n",
    "\n",
    "simp10 = simpRule(20, 0, 3)\n",
    "print(\"For 10 slices, the approximate value is {:.6f}\" .format(simp10))\n",
    "\n",
    "'''\n",
    "We will now graph this as a function of x with 100 steps. \n",
    "'''\n",
    "\n",
    "steps = linspace(0, 3, 100)\n",
    "valperstep = [] \n",
    "\n",
    "for i in steps:\n",
    "    valperstep.append(simpRule(slices, 0, i))\n",
    "    \n",
    "plot(steps, valperstep)\n",
    "xlabel(\"x\")\n",
    "ylabel(\"E(x)\")\n",
    "title(\"Plot of E(x) with 100 steps\")"
   ]
  },
  {
   "cell_type": "markdown",
   "metadata": {},
   "source": [
    "### CP 5.4 [Diffraction limited telescopes with Simpson's rule] "
   ]
  },
  {
   "cell_type": "markdown",
   "metadata": {},
   "source": [
    "The intensity of the light in the diffraction pattern from an astronomical observation is given by \n",
    "\n",
    "$$ I(r)= \\left(\\frac{J_1(kr)}{kr}\\right)^2 $$ \n",
    "\n",
    "where $r$ is the distance in the focal place from the center of the diffraction pattern, $k = 2\\pi/\\lambda$, and $J_1(x)$ is a Bessel function. The Bessel functions $J_m(x)$ are given by \n",
    "\n",
    "$$ J_m(x) = \\frac{1}{\\pi}\\int_{0}^{\\pi}cos(m\\theta - xsin\\theta)d\\theta$$, \n",
    "\n",
    "where $m$ is a nonnegative integer and $x \\geq 0$."
   ]
  },
  {
   "cell_type": "code",
   "execution_count": 303,
   "metadata": {
    "collapsed": true
   },
   "outputs": [],
   "source": [
    "#Define our constants \n",
    "N = 1000 #number of slices\n",
    "start = 0 #starting point\n",
    "end = pi #ending point\n",
    "xstart = 0 #x starting place \n",
    "xend = 20 #x ending place \n",
    "xrange = linspace(xstart, xend, N) #dividing number of slices "
   ]
  },
  {
   "cell_type": "code",
   "execution_count": 304,
   "metadata": {},
   "outputs": [
    {
     "data": {
      "text/plain": [
       "<matplotlib.legend.Legend at 0x1518ae9588>"
      ]
     },
     "execution_count": 304,
     "metadata": {},
     "output_type": "execute_result"
    },
    {
     "data": {
      "image/png": "[encoded data removed]",
      "text/plain": [
       "<matplotlib.figure.Figure at 0x1518eb32b0>"
      ]
     },
     "metadata": {},
     "output_type": "display_data"
    }
   ],
   "source": [
    "def JIntegrand(m, x, t):\n",
    "    '''\n",
    "    This returns the Bessel function inside the integral\n",
    "    for a given nonnegative integer m and x\n",
    "    '''\n",
    "    return cos(m*t - x*sin(t))\n",
    "\n",
    "def simpRule(slices, start, end, m, x):\n",
    "    '''\n",
    "    This calculates the value of an integral \n",
    "    using Simpson's rule and its parameters are\n",
    "    the number of quadratics used to approximate\n",
    "    the integral, starting point, ending point, m value, \n",
    "    and x value. \n",
    "    '''\n",
    "    N = slices #number of slices \n",
    "    a = start #starting x value \n",
    "    b = end #ending x value \n",
    "    h = (b-a) / N\n",
    "    #this is initial part of the sum\n",
    "    s = JIntegrand(m, x, a) + JIntegrand(m, x, b) \n",
    "\n",
    "    #we now compute the sums in the above equation \n",
    "        \n",
    "    #for the odd terms \n",
    "    for i in range(1, N, 2): \n",
    "        s += 4* JIntegrand(m, x, a+i*h)\n",
    "    \n",
    "    #for the even terms \n",
    "    for i in range(2, N, 2):\n",
    "        s += 2* JIntegrand(m, x, a+i*h)\n",
    "    \n",
    "    return((1/3)*h*s)\n",
    "\n",
    "def J(N, start, end, m, x):\n",
    "    return (1 / pi)*simpRule(N, start, end, m, x)\n",
    "\n",
    "#print(J(N, start, end, 1, 1))\n",
    "\n",
    "def plotBessel(N, start, end, m):\n",
    "    '''\n",
    "    This function takes in number of slices N, \n",
    "    starting point, ending point, and m. It \n",
    "    returns a list of values of the Bessel \n",
    "    function at different m and x values. \n",
    "    '''\n",
    "    Besselcoord = []\n",
    "    for j in xrange:\n",
    "        #Bessel = (1 / pi)*simpRule(N, start, end, m, j)\n",
    "        Bessel = J(N, start, end, m, j)\n",
    "        Besselcoord.append(Bessel)\n",
    "    return Besselcoord\n",
    "\n",
    "#We plot the Bessel functions of m=0,1,2\n",
    "J_0 = plotBessel(N, start, end, 0)\n",
    "J_1 = plotBessel(N, start, end, 1)\n",
    "J_2 = plotBessel(N, start, end, 2)\n",
    "plot(xrange, J_0, \"b\", label = \"m=0\")\n",
    "plot(xrange, J_1, \"g\", label = \"m=1\")\n",
    "plot(xrange, J_2, \"r\", label = \"m=2\")\n",
    "ylabel(\"Bessel J(x)\")\n",
    "xlabel(\"x\")   \n",
    "title(\"Bessel function\")\n",
    "legend(loc = \"upper right\")"
   ]
  },
  {
   "cell_type": "code",
   "execution_count": 109,
   "metadata": {
    "collapsed": true
   },
   "outputs": [],
   "source": [
    "#Define constants \n",
    "points = 1000\n",
    "axisrange = linspace(-1e-6, 1e-6, points) \n",
    "wavelength = 500e-9 #wavelength of light \n",
    "k = 2*pi / wavelength #k value \n",
    "m = 1 #m value \n",
    "N = 50"
   ]
  },
  {
   "cell_type": "code",
   "execution_count": 110,
   "metadata": {},
   "outputs": [
    {
     "data": {
      "text/plain": [
       "Text(0.5,1,'Bessel Density Plot')"
      ]
     },
     "execution_count": 110,
     "metadata": {},
     "output_type": "execute_result"
    },
    {
     "data": {
      "image/png": "[encoded data removed]",
      "text/plain": [
       "<matplotlib.figure.Figure at 0x125eb1278>"
      ]
     },
     "metadata": {},
     "output_type": "display_data"
    }
   ],
   "source": [
    "BesselArray = zeros([points, points], float)\n",
    "xvalues = array(axisrange, float)\n",
    "yvalues = array(axisrange, float)\n",
    "\n",
    "for i in range(0, points, 1): \n",
    "    x = xvalues[i]\n",
    "    for j in range(0, points, 1):\n",
    "        y = yvalues[j]\n",
    "        r = sqrt(x**2 + y**2)\n",
    "        BesselArray[i, j] = (J(N, start, end, m, (k*r)) / (k*r))**2\n",
    "        \n",
    "#print(BesselArray)\n",
    "imshow(BesselArray, \"hot\", vmax=0.01)\n",
    "xlabel(\"y\")\n",
    "ylabel(\"x\")\n",
    "title(\"Bessel Density Plot\")"
   ]
  },
  {
   "cell_type": "markdown",
   "metadata": {},
   "source": [
    "### CP 5.7 [Romberg Integration] "
   ]
  },
  {
   "cell_type": "markdown",
   "metadata": {},
   "source": [
    "Considering the integral\n",
    "\n",
    "$$ I = \\int_{0}^{1}sin^2\\sqrt{100x}dx $$\n",
    "\n",
    "We will write a program that uses the adaptive trapezoidal rule method of section 5.3 (Choosing the Number of Steps) and the equation \n",
    "\n",
    "$$I_i = \\frac{1}{2}I_{i-1} + h_i \\sum_{kodd, 1...N_i-1} f(a + kh_i) $$ \n",
    "\n",
    "to calculate the value of this integral to an approximate accuracy of $\\epsilon = 10^{-6}$ (the final result will be around I = 0.45). "
   ]
  },
  {
   "cell_type": "code",
   "execution_count": 287,
   "metadata": {
    "collapsed": true
   },
   "outputs": [],
   "source": [
    "#Define constants \n",
    "desirederror = 1e-6 #the error that we want \n",
    "b = 1 #end point \n",
    "a = 0 #start point \n",
    "N = 1 #initial N "
   ]
  },
  {
   "cell_type": "code",
   "execution_count": 288,
   "metadata": {
    "collapsed": true
   },
   "outputs": [],
   "source": [
    "def f(x):\n",
    "    return sin(sqrt(100*x))**2\n",
    "\n",
    "def traprule(start, end, slices):\n",
    "    '''\n",
    "    This returns the approx. integral of a function\n",
    "    using the adap trapezoidal rule. It takes in the number\n",
    "    of trapezoids used to approximate the value of the \n",
    "    integral. \n",
    "    '''\n",
    "    N = slices\n",
    "    a = start\n",
    "    b = end\n",
    "    h = (b-a) / N \n",
    "\n",
    "    s = 0.5*f(a) + 0.5*f(b)\n",
    "    for k in range(1,N):\n",
    "        s += f(a+k*h)\n",
    "    \n",
    "    return h*s\n",
    "\n",
    "def error(prevI, I):\n",
    "    '''\n",
    "    This function calculates the error asssociated\n",
    "    with the trapezoidal rule \n",
    "    '''\n",
    "    return (1/3) * (I - prevI)"
   ]
  },
  {
   "cell_type": "code",
   "execution_count": 289,
   "metadata": {},
   "outputs": [
    {
     "name": "stdout",
     "output_type": "stream",
     "text": [
      "To get error less than 1e-6, we used 4096 trapezoids\n",
      "The value of the integral is approximately 0.456\n"
     ]
    }
   ],
   "source": [
    "currenterror = 0\n",
    "N = 1 \n",
    "currentI = traprule(a,b, N)\n",
    "N = 2*N \n",
    "Inext = traprule(a,b,N)\n",
    "currenterror = error(currentI, Inext)\n",
    "while abs(currenterror) > desirederror:\n",
    "    N = 2*N \n",
    "    currentI = Inext \n",
    "    Inext = traprule(a,b,N)\n",
    "    currenterror = error(currentI, Inext)\n",
    "    \n",
    "print(\"To get error less than 1e-6, we used\", N , \"trapezoids\")\n",
    "print(\"The value of the integral is approximately {:.3f}\" .format(Inext))"
   ]
  },
  {
   "cell_type": "markdown",
   "metadata": {},
   "source": [
    "We repeat the above process but use Romberg integration "
   ]
  },
  {
   "cell_type": "code",
   "execution_count": 290,
   "metadata": {
    "collapsed": true
   },
   "outputs": [],
   "source": [
    "#Define constants \n",
    "start = 0 \n",
    "end = 1\n",
    "desirederror = 1e-6\n",
    "N = 1 #intialize N slices "
   ]
  },
  {
   "cell_type": "code",
   "execution_count": 299,
   "metadata": {},
   "outputs": [
    {
     "name": "stdout",
     "output_type": "stream",
     "text": [
      "Romberg used 64 slices\n",
      "Adaptive trap used 4096 slices\n",
      "After i = 7 , romberg's approx. is good enough\n",
      "The approx. of the integral is 0.455832494461\n",
      "Romberg was much faster\n",
      "\n",
      "Romberg Table\n",
      "\n",
      "[0.14797948454665205]\n",
      "[0.3252319078064746, 0.38431604889308213]\n",
      "[0.51228285072333146, 0.57463316502895045, 0.58732097277134165]\n",
      "[0.40299744847824825, 0.3665689810632205, 0.35269803546550516, 0.34897386185747603]\n",
      "[0.43010336929474696, 0.43913867623357988, 0.44397665591160385, 0.44542552290281179, 0.44580376471083272]\n",
      "[0.4484146657874698, 0.4545184312850441, 0.45554374828847505, 0.45572735292937777, 0.4557677522628153, 0.45577749223109681]\n",
      "[0.45391293121537596, 0.45574568635801133, 0.45582750336287581, 0.45583200741167584, 0.45583241782141032, 0.45583248103310003, 0.45583249446137891]\n",
      "\n"
     ]
    }
   ],
   "source": [
    "'''\n",
    "Calculate the first two estimates of the integral using the \n",
    "regular trapezoidal rule. I tried to hardcode the answer and \n",
    "my answers didn't agree with what I coded above.\n",
    "'''\n",
    "\n",
    "m = 1\n",
    "result = [[]]\n",
    "N = 1 #one slice first \n",
    "R11 = traprule(start, end, N) #I1\n",
    "result[0].append(R11)\n",
    "\n",
    "N = N*2 #two slices \n",
    "R21 = traprule(start, end, N) #I2\n",
    "result.append([R21])\n",
    "\n",
    "def error(R_im, R_iminus1m, m):\n",
    "    return (1/(4**m -1))*(R_im - R_iminus1m)\n",
    "\n",
    "R21error = error(R21, R11, 1)\n",
    "if abs(R21error) < desirederror: \n",
    "    for i in result:\n",
    "        print(i)\n",
    "              \n",
    "'''\n",
    "Using I1 and I2, calculate the more accurate estimate \n",
    "R_22 using the equation 5.51 \n",
    "'''\n",
    "\n",
    "def Romberg(R_im, R_iminus1m, m):\n",
    "    '''\n",
    "    Takes the previous R_i,m and R_i-1,m and m\n",
    "    and returns R_i,m+1\n",
    "    '''\n",
    "    return R_im + (1/((4**m) - 1)) * (R_im - R_iminus1m)\n",
    "\n",
    "\n",
    "R22 = Romberg(R21, R11, 1)\n",
    "result[1].append(R22)\n",
    "\n",
    "for i in range(2, 50): #arbitrarily large number \n",
    "    N = N * 2\n",
    "    firstcolumnromberg = traprule(start, end, N) #starts at R31\n",
    "    result.append([firstcolumnromberg])\n",
    "    for j in range(1, i+1):\n",
    "        currenterror = error(result[i][j-1], result[i-1][j-1], j)\n",
    "        nextromberg = Romberg(result[i][j-1], result[i-1][j-1], j)\n",
    "        result[i].append(nextromberg)\n",
    "    if abs(currenterror) < desirederror:\n",
    "        print(\"Romberg used\", N, \"slices\")\n",
    "        print(\"Adaptive trap used 4096 slices\")\n",
    "        print(\"After i =\", j+1,\", romberg's approx. is good enough\" )\n",
    "        print(\"The approx. of the integral is\", result[-1][-1])\n",
    "        print(\"Romberg was much faster\")\n",
    "        print()\n",
    "        print(\"Romberg Table\")\n",
    "        print()\n",
    "        for i in result:\n",
    "            print(i)\n",
    "        print()\n",
    "        break"
   ]
  },
  {
   "cell_type": "markdown",
   "metadata": {},
   "source": [
    "### CP 5.9 [Heat Capacity using Gaussian quadrature] "
   ]
  },
  {
   "cell_type": "markdown",
   "metadata": {},
   "source": [
    "The Debye's theory of solids gives the head capacity of a solid at temperature T to be \n",
    "\n",
    "$$ C_V = 9V\\rho k_B (\\frac{T}{\\theta_D})^3 \\int_{0}^{\\frac{\\theta_D}{T}}\\frac{x^4 e^x}{(e^x - 1)^2} dx$$\n",
    "\n",
    "where $V$ isthe volume, $\\rho$ is the number density of atoms, $k_B$ is Boltzmann's constant, and $\\theta_D$ is the so-called Debye temperature. \n",
    "\n",
    "We calculate $C_v$ using Gaussian quadrature at N = 50 and make a graph of the heat capacity as a function of temperature from T = 5K to T = 500K"
   ]
  },
  {
   "cell_type": "code",
   "execution_count": 14,
   "metadata": {
    "collapsed": true
   },
   "outputs": [],
   "source": [
    "#Define constants \n",
    "rho = 6.022e28 #m^-3 \n",
    "dtemp = 428 #Kelvin \n",
    "N = 50 #sample points\n",
    "#boltzmann defined as k \n",
    "V = 1e-3 #m^3"
   ]
  },
  {
   "cell_type": "code",
   "execution_count": 39,
   "metadata": {
    "collapsed": true
   },
   "outputs": [],
   "source": [
    "#define function we want to integrate w/o constants\n",
    "def f(x): \n",
    "    '''\n",
    "    This is the function we want to integrate\n",
    "    '''\n",
    "    return (x**4)*exp(x) / ((exp(x) - 1)**2)\n",
    "\n",
    "#[-1, 1] Legendre polynomial roots \n",
    "x, w = p_roots(N)\n",
    "\n",
    "def cv(T):\n",
    "    '''\n",
    "    This takes T and returns C_v\n",
    "    '''\n",
    "    b = dtemp / T \n",
    "    a = 0 \n",
    "    xp = 0.5 * (b-a)*x + 0.5*(b+a)\n",
    "    wp = 0.5 * (b-a)*w\n",
    "    s = 0.0 \n",
    "    for i in range(0, N):\n",
    "        s += f(xp[i]) * wp[i]\n",
    "    return 9 * rho * V * k * ((T / dtemp)**3) * s"
   ]
  },
  {
   "cell_type": "code",
   "execution_count": 40,
   "metadata": {},
   "outputs": [
    {
     "data": {
      "text/plain": [
       "Text(0.5,1,'Heat Capacity')"
      ]
     },
     "execution_count": 40,
     "metadata": {},
     "output_type": "execute_result"
    },
    {
     "data": {
      "image/png": "[encoded data removed]",
      "text/plain": [
       "<matplotlib.figure.Figure at 0x151aa7feb8>"
      ]
     },
     "metadata": {},
     "output_type": "display_data"
    }
   ],
   "source": [
    "itemp = 5 # Kelvin\n",
    "ftemp = 500 #Kelvin\n",
    "temprange = linspace(itemp, ftemp, N)\n",
    "cvs = [] \n",
    "for i in temprange: \n",
    "    y = cv(i)\n",
    "    cvs.append(y)\n",
    "\n",
    "plot(temprange, cvs)\n",
    "xlabel(\"T (K)\")\n",
    "ylabel(\"C_V\")\n",
    "title(\"Heat Capacity\")"
   ]
  },
  {
   "cell_type": "markdown",
   "metadata": {},
   "source": [
    "### CP 5.10 [Period of an anharmonic oscillator with Gaussian quadrature] "
   ]
  },
  {
   "cell_type": "markdown",
   "metadata": {},
   "source": [
    "Derivation: \n",
    "\n",
    "$$ E = \\frac{1}{2}m(\\frac{dx}{dt})^2 + V(x) $$\n",
    "\n",
    "We set $E = V(a)$\n",
    "\n",
    "rearrange to isolate $\\frac{dx}{dt}$\n",
    "\n",
    "$$ \\frac{dx}{dt} = \\sqrt{\\frac{2}{m}(V(a) - (Vx)}$$\n",
    "\n",
    "moving dt over and intergrating it from $0$ to $\\frac{1}{4}T$\n",
    "\n",
    "$$\\int_{0}^{\\frac{1}{4}T} dt = \\int_{0}^{a}\\frac{dx}{\\sqrt{\\frac{2}{m}(V(a)-V(x))}} $$\n",
    "\n",
    "Finally, we get the period of an anharmonic oscillator: \n",
    "\n",
    "$$ T = \\sqrt{8m}\\int_{0}^{a}\\frac{dx}{\\sqrt{V(a)-V(x)}}$$"
   ]
  },
  {
   "cell_type": "markdown",
   "metadata": {},
   "source": [
    "Assuming the potential is $V(x) = x^4$ and the mass of the particle is $m = 1$, we calculate \n",
    "the period of the oscillator for a given amplitude using Gaussian quadrature with\n",
    "N = 20 opoints and then graph it from a = 0 to a = 2. "
   ]
  },
  {
   "cell_type": "code",
   "execution_count": 144,
   "metadata": {
    "collapsed": true
   },
   "outputs": [],
   "source": [
    "#Define constants \n",
    "m = 1 #mass kg \n",
    "#a = 0 #start point \n",
    "b = 2 #end point\n",
    "N = 20 #number of points "
   ]
  },
  {
   "cell_type": "code",
   "execution_count": 145,
   "metadata": {
    "collapsed": true
   },
   "outputs": [],
   "source": [
    "def V(x): \n",
    "    return x**4\n",
    "\n",
    "def f(x, af): \n",
    "    return 1 / sqrt(V(af) - V(x))\n",
    "\n",
    "#[-1, 1] Legendre polynomial roots \n",
    "x, w = p_roots(N)\n",
    "\n",
    "def period(b):\n",
    "    '''\n",
    "    This takes the end point as a parameter\n",
    "    '''\n",
    "    #b = 2 #end point\n",
    "    a = 0 #start point\n",
    "    xp = 0.5 * (b-a)*x + 0.5*(b+a)\n",
    "    wp = 0.5 * (b-a)*w\n",
    "    s = 0.0 \n",
    "    for i in range(0, N):\n",
    "        s += f(xp[i], b) * wp[i]\n",
    "    return sqrt(8*m)* s"
   ]
  },
  {
   "cell_type": "code",
   "execution_count": 146,
   "metadata": {},
   "outputs": [
    {
     "name": "stdout",
     "output_type": "stream",
     "text": [
      "The period of the oscillator is 1.82404704202\n"
     ]
    }
   ],
   "source": [
    "print(\"The period of the oscillator is\", period(b))"
   ]
  },
  {
   "cell_type": "code",
   "execution_count": 147,
   "metadata": {},
   "outputs": [
    {
     "data": {
      "text/plain": [
       "Text(0.5,1,'Period vs amplitude')"
      ]
     },
     "execution_count": 147,
     "metadata": {},
     "output_type": "execute_result"
    },
    {
     "data": {
      "image/png": "[encoded data removed]",
      "text/plain": [
       "<matplotlib.figure.Figure at 0x150eb1f9e8>"
      ]
     },
     "metadata": {},
     "output_type": "display_data"
    }
   ],
   "source": [
    "start = 0 \n",
    "end = 2 \n",
    "periods = [] \n",
    "periodrange = linspace(0, 2, 100)\n",
    "for i in periodrange: \n",
    "    if i == 0:\n",
    "        periods.append(0)\n",
    "        continue\n",
    "    y = period(i)\n",
    "    periods.append(y)\n",
    "    \n",
    "plot(periodrange, periods)\n",
    "xlabel(\"amplitude\")\n",
    "ylabel(\"T period\")\n",
    "title(\"Period vs amplitude\")"
   ]
  },
  {
   "cell_type": "markdown",
   "metadata": {},
   "source": [
    "As seen from the graph, as the amplitude increases, the period decreases. In addition, the period diverges as the amplitude goes to zero. These results can be explained by fact that $V(x) = x^4$. As the amplitude increases, the period quickly decreases (meaning that the ball is moving very fast) "
   ]
  },
  {
   "cell_type": "markdown",
   "metadata": {},
   "source": [
    "### CP 5.11 [Diffraction around edges with Gaussian quadrature] "
   ]
  },
  {
   "cell_type": "markdown",
   "metadata": {},
   "source": [
    "We will calculate the integral using Gaussian quadrature for $N = 50$ points \n",
    "\n",
    "$$I = \\frac{I_0}{8}([2C(u) + 1]^2 + [2S(u) + 1]^2) $$\n",
    "\n",
    "where \n",
    "\n",
    "$$u = x\\sqrt{\\frac{2}{\\lambda z}}, \\qquad C(u) = \\int_{0}^{u}\\cos{\\frac{1}{2}\\pi t^2}dt,  \\qquad S(u) = \\int_{0}^{u}\\sin{\\frac{1}{2}\\pi t^2}dt $$\n",
    "\n",
    "\n",
    "We will plot I as a function of x in the range -5 to 5"
   ]
  },
  {
   "cell_type": "code",
   "execution_count": 43,
   "metadata": {
    "collapsed": true
   },
   "outputs": [],
   "source": [
    "lamb = 1 #meters\n",
    "z = 3 #distance from straight edge meters \n",
    "N = 50 #number of points "
   ]
  },
  {
   "cell_type": "code",
   "execution_count": 69,
   "metadata": {},
   "outputs": [
    {
     "name": "stdout",
     "output_type": "stream",
     "text": [
      "This plot does not include the I_0 factor\n"
     ]
    },
    {
     "data": {
      "text/plain": [
       "Text(0.5,1,'Intensity vs z')"
      ]
     },
     "execution_count": 69,
     "metadata": {},
     "output_type": "execute_result"
    },
    {
     "data": {
      "image/png": "[encoded data removed]",
      "text/plain": [
       "<matplotlib.figure.Figure at 0x114edac88>"
      ]
     },
     "metadata": {},
     "output_type": "display_data"
    }
   ],
   "source": [
    "#[-1, 1] Legendre polynomial roots \n",
    "x, w = p_roots(N)\n",
    "\n",
    "def u(p):\n",
    "    '''\n",
    "    Define u used for other equations \n",
    "    '''\n",
    "    return p * sqrt(2 / (lamb * z))\n",
    "\n",
    "def c(t):\n",
    "    '''\n",
    "    Integrand of C(u)\n",
    "    '''\n",
    "    return cos((1/2)*pi*t**2)\n",
    "\n",
    "def s(t):\n",
    "    '''\n",
    "    Integrand of S(u)\n",
    "    '''\n",
    "    return sin((1/2)*pi*t**2)\n",
    "\n",
    "def C(u):\n",
    "    '''\n",
    "    Integral of c(t)\n",
    "    '''\n",
    "    b = u #end point\n",
    "    a = 0 #start point\n",
    "    xp = 0.5 * (b-a)*x + 0.5*(b+a)\n",
    "    wp = 0.5 * (b-a)*w\n",
    "    s = 0.0 \n",
    "    for i in range(0, N):\n",
    "        s += c(xp[i]) * wp[i]\n",
    "    return s\n",
    "\n",
    "def S(u):\n",
    "    '''\n",
    "    Integral of s(t)\n",
    "    '''\n",
    "    b = u #end point\n",
    "    a = 0 #start point\n",
    "    xp = 0.5 * (b-a)*x + 0.5*(b+a)\n",
    "    wp = 0.5 * (b-a)*w\n",
    "    g = 0.0 \n",
    "    for i in range(0, N):\n",
    "        g += s(xp[i]) * wp[i]\n",
    "    return g\n",
    "\n",
    "def I(S, C): \n",
    "    return (1/8) * ((2*C + 1)**2 + (2*S + 1)**2)\n",
    "\n",
    "intensities = []\n",
    "xrange = linspace(-5, 5, 1000)\n",
    "\n",
    "for i in xrange: \n",
    "    #print(\"hi\")\n",
    "    ucalc = u(i)\n",
    "    Scalc = S(ucalc)\n",
    "    Ccalc = C(ucalc)\n",
    "    Icalc = I(Scalc, Ccalc)\n",
    "    intensities.append(Icalc)\n",
    "    \n",
    "print(\"This plot does not include the I_0 factor\")\n",
    "plot(xrange, intensities)\n",
    "xlabel(\"z (m)\")\n",
    "ylabel(\"Intensity\")\n",
    "title(\"Intensity vs z\")"
   ]
  },
  {
   "cell_type": "markdown",
   "metadata": {},
   "source": [
    "### CP 5.12 [The Stefan Boltzmann constant with Gaussian quadrature] "
   ]
  },
  {
   "cell_type": "markdown",
   "metadata": {},
   "source": [
    "The Planck theory of thermal radiation tells us that in the (angular) frequency interval $w$ to $w to dw$, a black body of unti area radiates electromagnetically an amount of thermal energy per second equal to $I(\\omega)d\\omega$, where \n",
    "\n",
    "$$I(\\omega) = \\frac{\\hbar}{4\\pi^2 c^2} \\frac{\\omega^3}{(e^{\\hbar \\omega / k_B T} -1)}$$\n",
    "\n",
    "We now derive the total rate at which energy is radiated by a black body per unit area, over all frequencies\n",
    "\n",
    "Substitute into $I(\\omega)$ that $\\frac{\\hbar \\omega} {k_B T} = x$ \n",
    "\n",
    "$$I(\\omega) = \\frac{\\hbar k_B^3 T^3}{4\\pi^2 c^2 \\hbar^3} \\frac{x^3}{(e^{x} -1)}$$\n",
    "\n",
    "Multiply both sides by $d \\omega$\n",
    "\n",
    "$$I(\\omega)d\\omega = \\frac{k_B^3 T^3}{4\\pi^2 c^2 \\hbar^2} \\frac{x^3}{(e^{x} -1)} d\\omega$$\n",
    "\n",
    "Substitute $d\\omega = \\frac{k_B T dx}{\\hbar}$\n",
    "\n",
    "$$I(\\omega)d\\omega  = \\frac{k_B^4 T^4}{4\\pi^2 c^2 \\hbar^3}\\frac{x^3}{(e^{x} -1)}dx$$\n",
    "\n",
    "Integrate both sides and we get the total rate at which energy is radiated by a black body per unit area, over all frequencies\n",
    "\n",
    "$$W = \\frac{k_B^4 T^4}{4\\pi^2 c^2 \\hbar^3}\\int_{0}^{\\infty}\\frac{x^3}{(e^{x} -1)}$$\n",
    "\n"
   ]
  },
  {
   "cell_type": "markdown",
   "metadata": {},
   "source": [
    "I will use Gaussian quadrature to evaluate the integral in the above equation because it's easy to program and I \n",
    "don't necessarily need equal spacing. \n",
    "\n",
    "For ranges from 0 to $\\infty$, we make the substitution\n",
    "of \n",
    "\n",
    "$$x = \\frac{z}{1-z} \\qquad dx = \\frac{dz}{(1-z)^2}$$\n",
    "\n",
    "We'll calculate the integral inside of $W$\n",
    "\n",
    "We will calculate the Stefan Boltzmann constant\n",
    "\n",
    "The value of the Stefan-Boltzmann constant is approximately 5.67 x 10 -8 watt per meter squared per kelvin to the fourth (W · m -2 · K -4 )."
   ]
  },
  {
   "cell_type": "code",
   "execution_count": 96,
   "metadata": {
    "collapsed": true
   },
   "outputs": [],
   "source": [
    "#Define constants \n",
    "#k Boltzmann's constant\n",
    "#c speed of light \n",
    "#hbar is Planck's constant over 2pi\n",
    "a = 0 #originally 0 \n",
    "b = 1 #originally infinity \n",
    "N = 30"
   ]
  },
  {
   "cell_type": "code",
   "execution_count": 111,
   "metadata": {},
   "outputs": [
    {
     "name": "stdout",
     "output_type": "stream",
     "text": [
      "Our calculated Stefan-Boltzmann constant is 5.670E-08\n",
      "This has good agreement with the true value\n"
     ]
    }
   ],
   "source": [
    "#[-1, 1] Legendre polynomial roots \n",
    "x, w = p_roots(N)\n",
    "\n",
    "#note because of the bounds, we need to change variables \n",
    "def f(z): \n",
    "    return (((z/(1-z))**3) / (exp(z / (1-z)) - 1)) / (1 - z)**2\n",
    "\n",
    "def W(a,b): \n",
    "    xp = 0.5 * (b-a)*x + 0.5*(b+a)\n",
    "    wp = 0.5 * (b-a)*w\n",
    "    s = 0.0 \n",
    "    for i in range(0, N):\n",
    "        s += f(xp[i]) * wp[i]\n",
    "    return (k**4 / (4*(pi**2)*(c**2)*(hbar**3))) * s\n",
    "\n",
    "#z = 10 \n",
    "#integrand = f(z)\n",
    "#print(integrand)\n",
    "\n",
    "Wint = W(a,b)\n",
    "print(\"Our calculated Stefan-Boltzmann constant is {:.3E}\" .format(Wint))\n",
    "print(\"This has good agreement with the true value\")\n"
   ]
  },
  {
   "cell_type": "markdown",
   "metadata": {},
   "source": [
    "### CP 5.13 [Quantum uncertainty in the harmonic with Gaussian quadrature] "
   ]
  },
  {
   "cell_type": "markdown",
   "metadata": {},
   "source": [
    "The wavefunction of the nth energy level of the one dimensional quantum harmonic oscillator is given by \n",
    "\n",
    "$$ \\Psi_n(x) = \\frac{1}{\\sqrt{2^n!\\sqrt{\\pi}}} e^{-x^2 / 2} H_n(x)$$\n",
    "\n",
    "We'll calculate a function to determine Hermimite polynomials. We'll use this function to plot the HO wave functions for n =0, 1, 2, 3 in the range x = -4 to 4. \n",
    "\n",
    "$$H_{n+1}(x) = 2xH_n(x) - 2nH_{n-1}(x)$$\n",
    "\n",
    "Then we'll plot with n = 30 and from x = -10 to 10 \n",
    " \n",
    "Then we'll calculate the uncertainty using the root-mean-square position \n",
    "\n",
    "$$<x^2> = \\int_{-\\infty}^{\\infty} x^2|\\Psi_n(x)|^2dx$$"
   ]
  },
  {
   "cell_type": "code",
   "execution_count": 18,
   "metadata": {},
   "outputs": [
    {
     "data": {
      "text/plain": [
       "<matplotlib.legend.Legend at 0x112f75c50>"
      ]
     },
     "execution_count": 18,
     "metadata": {},
     "output_type": "execute_result"
    },
    {
     "data": {
      "image/png": "[encoded data removed]",
      "text/plain": [
       "<matplotlib.figure.Figure at 0x112db4978>"
      ]
     },
     "metadata": {},
     "output_type": "display_data"
    }
   ],
   "source": [
    "def H(n, x):\n",
    "    H0 = 1 \n",
    "    H1 = 2*x\n",
    "    #for H0\n",
    "    if n == 0: \n",
    "        return H0 \n",
    "    #for H1\n",
    "    if n == 1: \n",
    "        return H1\n",
    "    #for H2\n",
    "    if n == 2: \n",
    "        return 2*x*H1 - 2*H0\n",
    "    return 2*x*H(n - 1, x) - 2*(n - 1)*H(n-2, x)\n",
    "\n",
    "def psi(n, x): \n",
    "    return (1/sqrt((2**n)*factorial(n)*sqrt(pi)))*exp(-(x**2)/2)*H(n, x)\n",
    "\n",
    "xrange = linspace(-4, 4, 100)\n",
    "\n",
    "zerothH= []\n",
    "firstH = []\n",
    "secondH = []\n",
    "thirdH = []\n",
    "\n",
    "for i in xrange: \n",
    "    n = 0 \n",
    "    wavefunction = psi(n, i)\n",
    "    zerothH.append(wavefunction)\n",
    "    \n",
    "for i in xrange:\n",
    "    n = 1 \n",
    "    wavefunction = psi(n, i)\n",
    "    firstH.append(wavefunction)\n",
    "    \n",
    "for i in xrange:\n",
    "    n = 2\n",
    "    wavefunction = psi(n, i)\n",
    "    secondH.append(wavefunction)\n",
    "    \n",
    "for i in xrange: \n",
    "    n = 3\n",
    "    wavefunction = psi(n, i)\n",
    "    thirdH.append(wavefunction)\n",
    "    \n",
    "plot(xrange, zerothH, \"b\", label = \"0th order\")\n",
    "plot(xrange, firstH, \"r\", label = \"1st order\")\n",
    "plot(xrange, secondH, \"g\", label = \"2nd order\")\n",
    "plot(xrange, thirdH, \"y\", label = \"3rd order\")\n",
    "xlabel(\"x\")\n",
    "ylabel(\"H(x)\")\n",
    "title(\"Wavefunctions of differnet order n\")\n",
    "legend(loc = \"lower right\")\n"
   ]
  },
  {
   "cell_type": "code",
   "execution_count": 164,
   "metadata": {},
   "outputs": [
    {
     "data": {
      "text/plain": [
       "<matplotlib.legend.Legend at 0x1517196cf8>"
      ]
     },
     "execution_count": 164,
     "metadata": {},
     "output_type": "execute_result"
    },
    {
     "data": {
      "image/png": "[encoded data removed]",
      "text/plain": [
       "<matplotlib.figure.Figure at 0x15170f5828>"
      ]
     },
     "metadata": {},
     "output_type": "display_data"
    }
   ],
   "source": [
    "thirtyth = [] \n",
    "xrange = linspace(-10, 10, 200)\n",
    "for i in xrange: \n",
    "    n = 30 \n",
    "    wavefunction = psi(n, i)\n",
    "    thirtyth.append(wavefunction)\n",
    "    \n",
    "plot(xrange, thirtyth, \"b\", label = \"30th order\")\n",
    "xlabel(\"x\")\n",
    "ylabel(\"y\")\n",
    "title(\"Wavefunction of order n = 30\")\n",
    "legend(loc = \"lower right\")"
   ]
  },
  {
   "cell_type": "code",
   "execution_count": 16,
   "metadata": {
    "collapsed": true
   },
   "outputs": [],
   "source": [
    "#define constants \n",
    "b = 1 #originally infinity \n",
    "a = -1 #originally -infinity\n",
    "n = 5 \n",
    "N = 100 "
   ]
  },
  {
   "cell_type": "code",
   "execution_count": 17,
   "metadata": {},
   "outputs": [
    {
     "name": "stdout",
     "output_type": "stream",
     "text": [
      "The root-mean-square position is 2.345\n"
     ]
    }
   ],
   "source": [
    "#[-1, 1] Legendre polynomial roots \n",
    "x, w = p_roots(N)\n",
    "\n",
    "def f(n, z): \n",
    "    return (z/(1-z**2))**2*abs(psi(n,z/(1-z**2)))**2*((1+z**2)/(1-z**2)**2)\n",
    "\n",
    "def rms(a,b): \n",
    "    xp = 0.5 * (b-a)*x + 0.5*(b+a)\n",
    "    wp = 0.5 * (b-a)*w\n",
    "    s = 0.0 \n",
    "    for i in range(0, N):\n",
    "        s += f(n, xp[i]) * wp[i]\n",
    "    return sqrt(s)\n",
    "\n",
    "answer = rms(a,b)\n",
    "print(\"The root-mean-square position is {:.3f}\" .format(answer))"
   ]
  },
  {
   "cell_type": "markdown",
   "metadata": {},
   "source": [
    "### CP 5.19  [Diffraction gratings. I suggest using Simpson's rule for this problem. Gaussian Quadrature will require a very large number of points] "
   ]
  },
  {
   "cell_type": "markdown",
   "metadata": {},
   "source": [
    "Light with a wavelength $\\lambda$ is incident on a diffraction grating of total width $w$, which is then focused with a lens of focal length $f$ falls on a screen a distance x from the central axis of the system. Theory tells us that the intensity at this spot is \n",
    "\n",
    "$$I(x) = \\left|\\int_{-w/2}^{w/2}\\sqrt{q(u)}e^{i2\\pi xu / \\lambda f}du^2\\right|^2$$\n"
   ]
  },
  {
   "cell_type": "markdown",
   "metadata": {},
   "source": [
    "Observing a function $q(u) = sin^2(\\alpha u)$, the separation of the slits $d$ in this grating express in terms of $\\alpha$ is \n",
    "$$d = \\pi / \\alpha$$ \n",
    "The key insight is that since the function we are given is a the square of a sine wave, the distance between the midpoints of two slits is one period. "
   ]
  },
  {
   "cell_type": "code",
   "execution_count": 8,
   "metadata": {
    "collapsed": true
   },
   "outputs": [],
   "source": [
    "#Define constants \n",
    "d = 20e-6 #slit width in meters \n",
    "alpha = pi / d \n",
    "slits = 10 #number of slits \n",
    "wlength = 500e-9 #meters\n",
    "flength = 1 #focal length in meters\n",
    "screenwidth = 0.1 #meters \n",
    "w = d * slits #total width of grating \n",
    "start = -w/2 #start point \n",
    "end = w/2 #end point\n",
    "slices = 1000 #number of slices for simpson's rule"
   ]
  },
  {
   "cell_type": "code",
   "execution_count": 9,
   "metadata": {},
   "outputs": [
    {
     "data": {
      "text/plain": [
       "Text(0.5,1,'Intensity')"
      ]
     },
     "execution_count": 9,
     "metadata": {},
     "output_type": "execute_result"
    },
    {
     "data": {
      "image/png": "[encoded data removed]",
      "text/plain": [
       "<matplotlib.figure.Figure at 0x112ce1240>"
      ]
     },
     "metadata": {},
     "output_type": "display_data"
    }
   ],
   "source": [
    "#We write a function that returns the transmission function at a \n",
    "#position u for a grating whose slits have seperation 20 micrometers \n",
    "#or 20e-6\n",
    "\n",
    "def q(u): \n",
    "    return sin(alpha*u)**2\n",
    "\n",
    "def f(u, x):\n",
    "    return cmath.sqrt(q(u))*cmath.exp(1j*2*pi*x*u / (wlength*flength)) \n",
    "\n",
    "def simpRule(start, end, slices, x):\n",
    "    '''This calculates the value of an integral \n",
    "    using Simpson's rule and its parameters are\n",
    "    the number of quadratics used to approximate\n",
    "    the integral. \n",
    "    '''\n",
    "    a = start \n",
    "    b = end \n",
    "    N = slices #number of slices \n",
    "    h = (b-a) / N\n",
    "    s = f(a, x) + f(b, x) #this is initial part of the sum\n",
    "\n",
    "    #we now compute the sums in the above equation \n",
    "        \n",
    "    #for the odd terms \n",
    "    for i in range(1, N, 2): \n",
    "        s += 4* f(a+i*h, x)\n",
    "    \n",
    "    #for the even terms \n",
    "    for i in range(2, N, 2):\n",
    "        s += 2* f(a+i*h, x)\n",
    "    \n",
    "    return((1/3)*h*s)\n",
    "\n",
    "xrange = linspace(-0.05, 0.05, 200)\n",
    "\n",
    "#print(simpRule(start, end, slices, 1))\n",
    "\n",
    "intensities = [] \n",
    "def I(x): \n",
    "    '''\n",
    "    This takes in an argument x \n",
    "    and returns the intesity of at x \n",
    "    after a diffraction grating \n",
    "    '''\n",
    "    \n",
    "    #calculate the integral first \n",
    "    #for i in xrange()\n",
    "    integral = simpRule(start, end, slices, x)\n",
    "    intensity = (abs(integral))**2\n",
    "    return intensity\n",
    "\n",
    "#print(I(1))\n",
    "\n",
    "for i in xrange: \n",
    "    intensities.append(I(i))\n",
    "    \n",
    "plot(xrange, intensities)\n",
    "xlabel(\"Distance from central axis (x)\")\n",
    "ylabel(\"Intensity I(x)\")\n",
    "title(\"Intensity\")"
   ]
  },
  {
   "cell_type": "code",
   "execution_count": 10,
   "metadata": {},
   "outputs": [
    {
     "data": {
      "image/png": "[encoded data removed]",
      "text/plain": [
       "<matplotlib.figure.Figure at 0x112c916a0>"
      ]
     },
     "metadata": {},
     "output_type": "display_data"
    }
   ],
   "source": [
    "screen = zeros([len(intensities), len(intensities)])\n",
    "\n",
    "for i in range(0, len(intensities), 1):\n",
    "    for k in range(0, len(intensities), 1):\n",
    "        screen[i, k] = intensities[k]\n",
    "        \n",
    "imshow(screen, extent=[-5, 5, -1, 1])\n",
    "title(\"Intensity\")\n",
    "xlabel(\"x (cm)\")\n",
    "ylabel(\"y\")\n",
    "jet()"
   ]
  },
  {
   "cell_type": "markdown",
   "metadata": {},
   "source": [
    "Create a few more pictures with new parameters "
   ]
  },
  {
   "cell_type": "code",
   "execution_count": 5,
   "metadata": {},
   "outputs": [],
   "source": [
    "#Define constants \n",
    "d = 20e-6 #slit width in meters \n",
    "alpha = pi / d \n",
    "beta = (1/2)*alpha\n",
    "slits = 10 #number of slits \n",
    "wlength = 500e-9 #meters\n",
    "flength = 1 #focal length in meters\n",
    "screenwidth = 0.1 #meters \n",
    "w = d * slits #total width of grating \n",
    "start = -w/2 #start point \n",
    "end = w/2 #end point\n",
    "slices = 1000 #number of slices for simpson's rule"
   ]
  },
  {
   "cell_type": "code",
   "execution_count": 6,
   "metadata": {},
   "outputs": [
    {
     "data": {
      "text/plain": [
       "Text(0.5,1,'Intensity')"
      ]
     },
     "execution_count": 6,
     "metadata": {},
     "output_type": "execute_result"
    },
    {
     "data": {
      "image/png": "[encoded data removed]",
      "text/plain": [
       "<matplotlib.figure.Figure at 0x10a930320>"
      ]
     },
     "metadata": {},
     "output_type": "display_data"
    }
   ],
   "source": [
    "#We write a function that returns the transmission function at a \n",
    "#position u for a grating whose slits have seperation 20 micrometers \n",
    "#or 20e-6\n",
    "\n",
    "def q(u): \n",
    "    return (sin(alpha*u)**2)*(sin(beta*u)**2)\n",
    "\n",
    "def f(u, x):\n",
    "    return cmath.sqrt(q(u))*cmath.exp(1j*2*pi*x*u / (wlength*flength)) \n",
    "\n",
    "def simpRule(start, end, slices, x):\n",
    "    '''This calculates the value of an integral \n",
    "    using Simpson's rule and its parameters are\n",
    "    the number of quadratics used to approximate\n",
    "    the integral. \n",
    "    '''\n",
    "    a = start \n",
    "    b = end \n",
    "    N = slices #number of slices \n",
    "    h = (b-a) / N\n",
    "    s = f(a, x) + f(b, x) #this is initial part of the sum\n",
    "\n",
    "    #we now compute the sums in the above equation \n",
    "        \n",
    "    #for the odd terms \n",
    "    for i in range(1, N, 2): \n",
    "        s += 4* f(a+i*h, x)\n",
    "    \n",
    "    #for the even terms \n",
    "    for i in range(2, N, 2):\n",
    "        s += 2* f(a+i*h, x)\n",
    "    \n",
    "    return((1/3)*h*s)\n",
    "\n",
    "xrange = linspace(-0.05, 0.05, 200)\n",
    "\n",
    "#print(simpRule(start, end, slices, 1))\n",
    "\n",
    "intensities = [] \n",
    "def I(x): \n",
    "    '''\n",
    "    This takes in an argument x \n",
    "    and returns the intesity of at x \n",
    "    after a diffraction grating \n",
    "    '''\n",
    "    \n",
    "    #calculate the integral first \n",
    "    #for i in xrange()\n",
    "    integral = simpRule(start, end, slices, x)\n",
    "    intensity = (abs(integral))**2\n",
    "    return intensity\n",
    "\n",
    "#print(I(1))\n",
    "\n",
    "for i in xrange: \n",
    "    intensities.append(I(i))\n",
    "    \n",
    "plot(xrange, intensities)\n",
    "xlabel(\"Distance from central axis (x)\")\n",
    "ylabel(\"Intensity I(x)\")\n",
    "title(\"Intensity\")"
   ]
  },
  {
   "cell_type": "code",
   "execution_count": 252,
   "metadata": {},
   "outputs": [
    {
     "data": {
      "image/png": "[encoded data removed]",
      "text/plain": [
       "<matplotlib.figure.Figure at 0x15188bef60>"
      ]
     },
     "metadata": {},
     "output_type": "display_data"
    }
   ],
   "source": [
    "screen = zeros([len(intensities), len(intensities)])\n",
    "\n",
    "for i in range(0, len(intensities), 1):\n",
    "    for k in range(0, len(intensities), 1):\n",
    "        screen[i, k] = intensities[k]\n",
    "        \n",
    "imshow(screen, extent=[-5, 5, -1, 1])\n",
    "xlabel(\"x (cm)\")\n",
    "ylabel(\"y\")\n",
    "title(\"Intensity\")\n",
    "jet()"
   ]
  },
  {
   "cell_type": "markdown",
   "metadata": {},
   "source": [
    "Now we calculate the diffraction pattern for non-identical slits, one $10\\mu m$ and the other $20\\mu m$, with a $60\\mu m$ gap"
   ]
  },
  {
   "cell_type": "code",
   "execution_count": 279,
   "metadata": {
    "collapsed": true
   },
   "outputs": [],
   "source": [
    "#Define constants \n",
    "#d = 20e-6 #slit width in meters \n",
    "alpha = pi / d \n",
    "beta = (1/2)*alpha\n",
    "slits = 10 #number of slits \n",
    "wlength = 500e-9 #meters\n",
    "flength = 1 #focal length in meters\n",
    "screenwidth = 0.1 #meters \n",
    "w = 100e-6 #total width of grating \n",
    "start = -w/2 #start point \n",
    "end = w/2 #end point\n",
    "slices = 1000 #number of slices for simpson's rule"
   ]
  },
  {
   "cell_type": "code",
   "execution_count": 284,
   "metadata": {},
   "outputs": [
    {
     "data": {
      "text/plain": [
       "Text(0.5,1,'Intensity')"
      ]
     },
     "execution_count": 284,
     "metadata": {},
     "output_type": "execute_result"
    },
    {
     "data": {
      "image/png": "[encoded data removed]",
      "text/plain": [
       "<matplotlib.figure.Figure at 0x15190baac8>"
      ]
     },
     "metadata": {},
     "output_type": "display_data"
    }
   ],
   "source": [
    "#We write a function that returns the transmission function at a \n",
    "#position u for a grating whose slits have seperation 20 micrometers \n",
    "#or 20e-6\n",
    "\n",
    "def f(u, x):\n",
    "    '''\n",
    "    We arbitrarily set the width of the grating to be 100micrometers, \n",
    "    so there are 5micrometers of buffer on each side. \n",
    "    '''\n",
    "    if u >= -w/2 and u < (-w/2)+5e-6: \n",
    "        return 0 \n",
    "    if u >= (-w/2)+5e-6 and u < (-w/2) + 15e-6: \n",
    "        return cmath.exp(1j*2*pi*x*u / (wlength*flength))\n",
    "    if u >= (-w/2) + 15e-6 and u < (-w/2) + 75e-6:\n",
    "        return 0\n",
    "    if u >= (-w/2) + 75e-6 and u < (-w/2) + 95e-6:\n",
    "        return cmath.exp(1j*2*pi*x*u / (wlength*flength)) \n",
    "    if u >= (-w/2) + 95e-6 and u <= w/2: \n",
    "        return 0 \n",
    "        \n",
    "\n",
    "def simpRule(start, end, slices, x):\n",
    "    '''This calculates the value of an integral \n",
    "    using Simpson's rule and its parameters are\n",
    "    the number of quadratics used to approximate\n",
    "    the integral. \n",
    "    '''\n",
    "    a = start \n",
    "    b = end \n",
    "    N = slices #number of slices \n",
    "    h = (b-a) / N\n",
    "    s = f(a, x) + f(b, x) #this is initial part of the sum\n",
    "\n",
    "    #we now compute the sums in the above equation \n",
    "        \n",
    "    #for the odd terms \n",
    "    for i in range(1, N, 2): \n",
    "        s += 4* f(a+i*h, x)\n",
    "    \n",
    "    #for the even terms \n",
    "    for i in range(2, N, 2):\n",
    "        s += 2* f(a+i*h, x)\n",
    "    \n",
    "    return((1/3)*h*s)\n",
    "\n",
    "xrange = linspace(-0.05, 0.05, 199)\n",
    "\n",
    "intensities = [] \n",
    "def I(x): \n",
    "    '''\n",
    "    This takes in an argument x \n",
    "    and returns the intesity of at x \n",
    "    after a diffraction grating \n",
    "    '''\n",
    "    \n",
    "    #calculate the integral first \n",
    "    #for i in xrange()\n",
    "    integral = simpRule(start, end, slices, x)\n",
    "    intensity = (abs(integral))**2\n",
    "    return intensity\n",
    "\n",
    "for i in xrange: \n",
    "    intensities.append(I(i))\n",
    "    \n",
    "plot(xrange, intensities)\n",
    "xlabel(\"Distance from central axis (x)\")\n",
    "ylabel(\"Intensity I(x)\")\n",
    "title(\"Intensity\")"
   ]
  },
  {
   "cell_type": "code",
   "execution_count": 285,
   "metadata": {},
   "outputs": [
    {
     "data": {
      "image/png": "[encoded data removed]",
      "text/plain": [
       "<matplotlib.figure.Figure at 0x1518ebf6d8>"
      ]
     },
     "metadata": {},
     "output_type": "display_data"
    }
   ],
   "source": [
    "screen = zeros([len(intensities), len(intensities)])\n",
    "\n",
    "for i in range(0, len(intensities), 1):\n",
    "    for k in range(0, len(intensities), 1):\n",
    "        screen[i, k] = intensities[k]\n",
    "        \n",
    "imshow(screen, extent=[-5, 5, -1, 1])\n",
    "xlabel(\"x (cm)\")\n",
    "ylabel(\"y\")\n",
    "title(\"Intensity\")\n",
    "jet()"
   ]
  }
 ],
 "metadata": {
  "kernelspec": {
   "display_name": "Python 3",
   "language": "python",
   "name": "python3"
  },
  "language_info": {
   "codemirror_mode": {
    "name": "ipython",
    "version": 3
   },
   "file_extension": ".py",
   "mimetype": "text/x-python",
   "name": "python",
   "nbconvert_exporter": "python",
   "pygments_lexer": "ipython3",
   "version": "3.6.3"
  }
 },
 "nbformat": 4,
 "nbformat_minor": 2
}
