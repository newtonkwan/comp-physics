{
 "cells": [
  {
   "cell_type": "markdown",
   "metadata": {},
   "source": [
    "## Homework #1 \n",
    "# CP 2.5, 2.6b,c, 2.9, 3.6, 3.7\n",
    "Newton Kwan\n",
    "<br>\n",
    "Professor Walter\n",
    "<br>\n",
    "PHY 566\n",
    "<br>\n",
    "21 January 2018 "
   ]
  },
  {
   "cell_type": "code",
   "execution_count": 4,
   "metadata": {
    "collapsed": true
   },
   "outputs": [],
   "source": [
    "from math import sqrt \n",
    "from math import pi\n",
    "from numpy.polynomial import Polynomial as P \n",
    "from numpy import empty, array, linspace, zeros\n",
    "from pylab import scatter, show, xlabel, ylabel, title, imshow\n",
    "import matplotlib\n",
    "import numpy as np\n",
    "import matplotlib.pyplot as plt\n",
    "%matplotlib inline"
   ]
  },
  {
   "cell_type": "markdown",
   "metadata": {},
   "source": [
    "### CP 2.5 -- Quantum Potential Step\n",
    "\n",
    "A particle of mass m encounters a one-dimensional potential step and has the probabilities T and R for transmission and reflection. These are given by \n",
    "\n",
    "$$T = \\frac{4k_1k_2}{(k_1+k_2)^2}, \\qquad R = \\left(\\frac{k_1-k_2}{k_1+k_2}\\right)^2$$\n",
    "\n",
    "We will calculate the probabilty of transmission T and reflection R for a particle of mass $m = 9.11\\times10^-31$ and energy 10 eV that encounters a potential step of height 9 eV. "
   ]
  },
  {
   "cell_type": "code",
   "execution_count": 5,
   "metadata": {},
   "outputs": [
    {
     "name": "stdout",
     "output_type": "stream",
     "text": [
      "Transmission probability is 0.7301261363877618\n",
      "Reflection probability is 0.26987386361223825\n"
     ]
    }
   ],
   "source": [
    "m = 9.11e-31\n",
    "E = 10 * 1.602e-19\n",
    "V = 9 * 1.602e-19\n",
    "hbar = 1.0545718e-34\n",
    "k1 = sqrt(2*m*E) / hbar \n",
    "k2 = sqrt(2*m*(E - V)) / hbar \n",
    "T = 4 * k1 * k2 / (k1 + k2)**2\n",
    "R = ((k1-k2)/(k1+k2))**2\n",
    "\n",
    "print(\"Transmission probability is\", T)\n",
    "print(\"Reflection probability is\", R)"
   ]
  },
  {
   "cell_type": "markdown",
   "metadata": {},
   "source": [
    "### CP 2.6 (b) and (c) -- One Body Orbits\n",
    "We write a user defined function that prints out the period and eccentricity for both Earth and Halley's comet given the perihelion $l_1$ and its linear velocity $v_1$\n",
    "\n",
    "The parameters that we use are the following:\n",
    "\n",
    "\\begin{align*}\n",
    "\\text{Semi-major axis:} \\qquad a &= \\frac{1}{2}(l_1 + l_2), \\\\\n",
    "\\text{Semi-minor axis:} \\qquad b &= \\sqrt{l_1l_2}, \\\\ \n",
    "\\text{Orbital period:} \\qquad T &= \\frac{2\\pi ab}{l_1v_1}, \\\\\n",
    "\\text{Orbital eccentricity:} \\qquad e &= \\frac{l_2-l_1}{l_2+l_1}\n",
    "\\end{align*}"
   ]
  },
  {
   "cell_type": "markdown",
   "metadata": {},
   "source": [
    "#### 2.6.b "
   ]
  },
  {
   "cell_type": "code",
   "execution_count": 6,
   "metadata": {
    "collapsed": true
   },
   "outputs": [],
   "source": [
    "#write a user defined function to calculate the distance to the sun\n",
    "#and velocity at perihelion and calculates and prints\n",
    "#the quantities l2, v2, T, and e\n",
    "\n",
    "\n",
    "def velocity2(l1, v1):\n",
    "    p = P([-((v1**2) - (2*G*M/l1)), -2*G*M/v1/l1, 1])\n",
    "    roots = sorted(p.roots()) #ensures the lowest root is first\n",
    "    return roots[0]\n",
    "def length2(l1, v1):\n",
    "    v2 = velocity2(l1, v1)\n",
    "    l2 = l1*v1 / v2 \n",
    "    return l2\n",
    "def semiMajorAxis(l1, l2):\n",
    "    a = (1/2) * (l1 + l2)\n",
    "    return a \n",
    "def semiMinorAxis(l1, l2):\n",
    "    b = sqrt(l1*l2)\n",
    "    return b\n",
    "def orbitalPeriod(l1, v1):\n",
    "    a = semiMajorAxis(l1, l2)\n",
    "    b = semiMinorAxis(l1, l2)\n",
    "    T = 2*pi*a*b / (l1*v1)\n",
    "    return T\n",
    "def eccentricity(l1, l2):\n",
    "    ecc = (l2 - l1) / (l2 + l1)\n",
    "    return ecc\n",
    "def orbitinformation(l1, l2, v1, v2, G, M): \n",
    "    ''' This function prints out the information about \n",
    "    the orbit in space of one body around another'''\n",
    "    #print(\"The velocity 2 is\", v2, \"m/s\")\n",
    "    #print(\"The length 2 is\", l2, \"meters\")\n",
    "    print(\"The semi-major axis is\", semiMajorAxis(l1, l2), \"meters\")\n",
    "    print(\"The semi-minor axis is\", semiMinorAxis(l1, l2), \"meters\")\n",
    "    print(\"The orbital period is\", orbitalPeriod(l1, v1), \"seconds or\", orbitalPeriod(l1, v1) / 60 / 60 / 24 / 365, \"years\")\n",
    "    print(\"The eccentricity is\", eccentricity(l1, l2))\n",
    "    "
   ]
  },
  {
   "cell_type": "markdown",
   "metadata": {},
   "source": [
    "#### For Earth"
   ]
  },
  {
   "cell_type": "code",
   "execution_count": 7,
   "metadata": {},
   "outputs": [
    {
     "name": "stdout",
     "output_type": "stream",
     "text": [
      "For Earth\n",
      "\n",
      "The semi-major axis is 149563598604.0 meters\n",
      "The semi-minor axis is 149543307136.74176 meters\n",
      "The orbital period is 31543060.2079 seconds or 1.00022387772 years\n",
      "The eccentricity is 0.0164719131347\n"
     ]
    }
   ],
   "source": [
    "l1 = 1.4710e11 #meters\n",
    "v1 = 3.0287e4 #m/s\n",
    "M = 1.9891e30 #kg mass of the sun\n",
    "G = 6.6738e-11 #m^3kg^-1s^-2; Newton's gravitational constant\n",
    "v2 = velocity2(l1, v1)\n",
    "l2 = length2(l1, v1)\n",
    "print(\"For Earth\")\n",
    "print()\n",
    "orbitinformation(l1, l2, v1, v2, G, M)"
   ]
  },
  {
   "cell_type": "markdown",
   "metadata": {},
   "source": [
    "#### For Halley's Comet "
   ]
  },
  {
   "cell_type": "code",
   "execution_count": 8,
   "metadata": {},
   "outputs": [
    {
     "name": "stdout",
     "output_type": "stream",
     "text": [
      "For Halley's Comet\n",
      "\n",
      "The semi-major axis is 2.68502233044e+12 meters\n",
      "The semi-minor axis is 681129146098.4297 meters\n",
      "The orbital period is 2399312511.85 seconds or 76.0817006547 years\n",
      "The eccentricity is 0.967288912645\n"
     ]
    }
   ],
   "source": [
    "l1 = 8.7830e10 #meters\n",
    "v1 = 5.4529e4 #m/s\n",
    "M = 1.9891e30 #kg mass of the sun\n",
    "G = 6.6738e-11 #m^3kg^-1s^-2; Newton's gravitational constant\n",
    "v2 = velocity2(l1, v1)\n",
    "l2 = length2(l1, v1)\n",
    "print(\"For Halley's Comet\")\n",
    "print()\n",
    "orbitinformation(l1, l2, v1, v2, G, M)"
   ]
  },
  {
   "cell_type": "markdown",
   "metadata": {},
   "source": [
    "### 2.9 Madelung's Constant "
   ]
  },
  {
   "cell_type": "markdown",
   "metadata": {},
   "source": [
    "In condensed matter physics the Madelung constant gives the total electric potential felt by an atom in a solid. We solve for the Madelung constant in a sodium chloride crystal, but with alternating sodium and chlorine atoms, the sodium ones having a single positive charge $+e$ and the cholorine ones a single negative charge $-e$, where $e$ is the charge on the electron. Labelling each position on the lattice by three integer coordinates $(i,j,k)$, then the sodium atoms fall at positions where $i+j+k$ is even, and the chlorine atoms at positions where $i+j+k$ is odd. \n",
    "\n",
    "The equation for the total electric potential is given by: \n",
    "\n",
    "$$ \\sum_{i,j,k=-L, not i=j=k=0}^{L} V(i,j,k) = \\frac{e}{4\\pi\\epsilon_0a}M$$\n",
    "\n",
    "where M is Madelung's constant"
   ]
  },
  {
   "cell_type": "code",
   "execution_count": 9,
   "metadata": {},
   "outputs": [
    {
     "name": "stdout",
     "output_type": "stream",
     "text": [
      "8120600\n"
     ]
    }
   ],
   "source": [
    "'''This generates the possible coordinates for the atoms in a \n",
    "sodium chloride crystal arranged on a cubic lattice\n",
    "'''\n",
    "L = 100\n",
    "coordinates = [] \n",
    "for i in range(0, L+1):\n",
    "    for j in range(0, L+1):\n",
    "        for k in range(0, L+1):\n",
    "            if i == 0 and j == 0 and k == 0:\n",
    "                continue \n",
    "            coords = (i, j, k)\n",
    "            coordinates.append(coords)\n",
    "            coords = (-i, -j, -k)\n",
    "            coordinates.append(coords)\n",
    "            coords = (i, -j, -k)\n",
    "            coordinates.append(coords)\n",
    "            coords = (-i, j, -k)\n",
    "            coordinates.append(coords)\n",
    "            coords = (-i, -j, k)\n",
    "            coordinates.append(coords)\n",
    "            coords = (-i, j, k)\n",
    "            coordinates.append(coords)\n",
    "            coords = (i, -j, k)\n",
    "            coordinates.append(coords)\n",
    "            coords = (i, j, -k)\n",
    "            coordinates.append(coords)\n",
    "            \n",
    "coordinates = list(set(coordinates))  #this ensures no points are double counted          \n",
    "#print(coordinates)\n",
    "print(len(coordinates))"
   ]
  },
  {
   "cell_type": "code",
   "execution_count": 11,
   "metadata": {},
   "outputs": [
    {
     "name": "stdout",
     "output_type": "stream",
     "text": [
      "The Madelung constant is -1.7418198158417173\n"
     ]
    }
   ],
   "source": [
    "def MadelungConstant(coordinates):\n",
    "    ''' This function calculates the Madelung constant \n",
    "    for a sodium chloride crystal arranged on a cubic \n",
    "    lattice. It takes the coordinates of the atoms \n",
    "    surrounding an atom centered at (0,0,0)'''\n",
    "    M = 0 \n",
    "    for item in coordinates: \n",
    "        i = item[0]\n",
    "        j = item[1]\n",
    "        k = item[2]\n",
    "        m = 1 / sqrt((i**2 + j**2 + k**2))\n",
    "        if sum(item) % 2 == 0:\n",
    "            M += m\n",
    "        else: \n",
    "            M -= m \n",
    "    return M\n",
    "            \n",
    "    \n",
    "print(\"The Madelung constant is\", MadelungConstant(coordinates))"
   ]
  },
  {
   "cell_type": "markdown",
   "metadata": {},
   "source": [
    "### 3.6 Deterministic chaos and the Feigenbaum plot"
   ]
  },
  {
   "cell_type": "markdown",
   "metadata": {},
   "source": [
    "We try to calculate and display the logistic map for the logistic map defined by the equation $$x' = rx(1-x)$$"
   ]
  },
  {
   "cell_type": "code",
   "execution_count": 12,
   "metadata": {
    "collapsed": true
   },
   "outputs": [],
   "source": [
    "def logisticEq(x, r):\n",
    "    ''' define a logistic function'''\n",
    "    xprime = r*x*(1-x)\n",
    "    return xprime "
   ]
  },
  {
   "cell_type": "code",
   "execution_count": 13,
   "metadata": {
    "collapsed": true
   },
   "outputs": [],
   "source": [
    "xvalues = [] \n",
    "rvalues = []\n",
    "def logisticMap(x, r):\n",
    "    '''This function returns a tuple of lists of x and r \n",
    "    values given some initial x and r value'''\n",
    "    iterations = 2000\n",
    "    for i in range(0,iterations,1):\n",
    "        xprime = logisticEq(x,r)\n",
    "        xvalues.append(xprime)\n",
    "        rvalues.append(r)\n",
    "        x = xprime\n",
    "        if len(xvalues) == iterations: \n",
    "            break \n",
    "    return xvalues, rvalues  "
   ]
  },
  {
   "cell_type": "markdown",
   "metadata": {},
   "source": [
    "#### Constant r value "
   ]
  },
  {
   "cell_type": "code",
   "execution_count": 14,
   "metadata": {},
   "outputs": [
    {
     "data": {
      "text/plain": [
       "Text(0.5,1,'Feigenbaum plot of r vs x')"
      ]
     },
     "execution_count": 14,
     "metadata": {},
     "output_type": "execute_result"
    },
    {
     "data": {
      "image/png": "[encoded data removed]",
      "text/plain": [
       "<matplotlib.figure.Figure at 0x1113ba780>"
      ]
     },
     "metadata": {},
     "output_type": "display_data"
    }
   ],
   "source": [
    "r = 1\n",
    "x = 1 / 2 \n",
    "#print(logisticMap(x,r)[1])\n",
    "xrange = np.linspace(-1,1,2000)\n",
    "scatter(logisticMap(x,r)[1], logisticMap(x,r)[0])\n",
    "xlabel(\"r\")\n",
    "ylabel(\"x\")\n",
    "title(\"Feigenbaum plot of r vs x\")"
   ]
  },
  {
   "cell_type": "markdown",
   "metadata": {},
   "source": [
    "#### r value from 1 to 4 with interval 0.01 "
   ]
  },
  {
   "cell_type": "code",
   "execution_count": 15,
   "metadata": {},
   "outputs": [
    {
     "data": {
      "text/plain": [
       "Text(0.5,1,'Feigenbaum plot of r vs x')"
      ]
     },
     "execution_count": 15,
     "metadata": {},
     "output_type": "execute_result"
    },
    {
     "data": {
      "image/png": "[encoded data removed]",
      "text/plain": [
       "<matplotlib.figure.Figure at 0x1113ba470>"
      ]
     },
     "metadata": {},
     "output_type": "display_data"
    }
   ],
   "source": [
    "r = np.arange(1, 4, 0.01)\n",
    "x = 1/2\n",
    "rvalues = []\n",
    "xvalues = [] \n",
    "#print(r)\n",
    "for i in r: \n",
    "    logisticMap(x, i)\n",
    "scatter(rvalues, xvalues, s = 0.01)\n",
    "xlabel(\"r\")\n",
    "ylabel(\"x\")\n",
    "title(\"Feigenbaum plot of r vs x\")"
   ]
  },
  {
   "cell_type": "markdown",
   "metadata": {},
   "source": [
    "#### a) \n",
    "Given the value of r, a fixed point would look like something in 1.75 < r < 2.4. A limit cycle of 2 would look like something in 2.8 < r < 3.4. Chaos would look like somethig in 3.7 < r < 4.0.\n",
    "\n",
    "#### b) \n",
    "Based on my plot, at the value of around r = 3.5 is when the system moves from orderly limit cycles to chaotic behavior. This would be considered the edge of chaos. "
   ]
  },
  {
   "cell_type": "markdown",
   "metadata": {},
   "source": [
    "## 3.7 Mandelbrot set "
   ]
  },
  {
   "cell_type": "markdown",
   "metadata": {},
   "source": [
    "Mandelbrot equation \n",
    "\n",
    "$$ z' = z^2 + c $$ \n",
    "\n",
    "where $z$ is a complex number and $c$ is a complex constant\n",
    "\n",
    "We make an image of the Mandelbrot set by performing the iteration for all values of $c = x + iy$ on an $N\\times N$ grid spanning the region where $-2\\leq x \\leq 2$ and $-2\\leq y \\leq 2$\n"
   ]
  },
  {
   "cell_type": "code",
   "execution_count": 17,
   "metadata": {},
   "outputs": [
    {
     "data": {
      "text/plain": [
       "Text(0,0.5,'x')"
      ]
     },
     "execution_count": 17,
     "metadata": {},
     "output_type": "execute_result"
    },
    {
     "data": {
      "image/png": "[encoded data removed]",
      "text/plain": [
       "<matplotlib.figure.Figure at 0x1511f0470>"
      ]
     },
     "metadata": {},
     "output_type": "display_data"
    }
   ],
   "source": [
    "#make an empty array\n",
    "points = 3000\n",
    "iterations = 100\n",
    "xi = zeros([points, points], float)\n",
    "xvalues = array(linspace(-2, 2, points), float)\n",
    "yvalues = array(linspace(-2, 2, points), float)\n",
    "\n",
    "z = 0\n",
    "for i in range(points):\n",
    "    x = xvalues[i] \n",
    "    for j in range(points): \n",
    "        y = yvalues[j]\n",
    "        c = x + y*1j\n",
    "        z = 0\n",
    "        for k in range(iterations):\n",
    "            zprime = z**2 + c \n",
    "            z = zprime\n",
    "            #print(z)\n",
    "            #print(abs(z))\n",
    "            if abs(z) > 2:\n",
    "                break\n",
    "        if abs(z) < 2:\n",
    "            xi[i,j] = 1\n",
    "\n",
    "#print(xi)\n",
    "imshow(xi, extent =[-2, 2, -2, 2])\n",
    "title(\"Mandelbrot Set\")\n",
    "xlabel(\"y\")\n",
    "ylabel(\"x\")"
   ]
  },
  {
   "cell_type": "code",
   "execution_count": null,
   "metadata": {
    "collapsed": true
   },
   "outputs": [],
   "source": []
  },
  {
   "cell_type": "code",
   "execution_count": null,
   "metadata": {
    "collapsed": true
   },
   "outputs": [],
   "source": []
  }
 ],
 "metadata": {
  "kernelspec": {
   "display_name": "Python 3",
   "language": "python",
   "name": "python3"
  },
  "language_info": {
   "codemirror_mode": {
    "name": "ipython",
    "version": 3
   },
   "file_extension": ".py",
   "mimetype": "text/x-python",
   "name": "python",
   "nbconvert_exporter": "python",
   "pygments_lexer": "ipython3",
   "version": "3.6.3"
  }
 },
 "nbformat": 4,
 "nbformat_minor": 2
}
